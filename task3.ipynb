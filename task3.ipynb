{
 "cells": [
  {
   "cell_type": "code",
   "execution_count": 1,
   "metadata": {},
   "outputs": [
    {
     "data": {
      "text/plain": [
       "'maybach'"
      ]
     },
     "execution_count": 1,
     "metadata": {},
     "output_type": "execute_result"
    }
   ],
   "source": [
    "#4th element from last position\n",
    "input_tuple = (\"volvo\", \"bmw\", \"benz\", \"maybach\", 90, 82, \"toyota\")\n",
    "print(input_tuple[-4])"
   ]
  },
  {
   "cell_type": "code",
   "execution_count": 9,
   "metadata": {},
   "outputs": [
    {
     "name": "stdout",
     "output_type": "stream",
     "text": [
      "{2: 'a', 3: 'b'}\n"
     ]
    }
   ],
   "source": [
    "# Convert a tuple to dictionary\n",
    "input_tuple = ((2, \"a\"), (3, \"b\"))\n",
    "mydict = dict()\n",
    "print(input_tuple[0][1])\n",
    "for x in input_tuple:\n",
    "    mydict.update({x[1] : x[0]})\n",
    "print(mydict)"
   ]
  },
  {
   "cell_type": "code",
   "execution_count": 1,
   "metadata": {},
   "outputs": [],
   "source": [
    "#Remove an item from set if it is present\n",
    "fruits = {\"apple\", \"banana\", \"cherry\"}\n",
    "fruits.discard(\"mango\")\n"
   ]
  },
  {
   "cell_type": "code",
   "execution_count": 5,
   "metadata": {},
   "outputs": [
    {
     "name": "stdout",
     "output_type": "stream",
     "text": [
      "{'d': 10, 'c': 4, 'b': 8}\n"
     ]
    }
   ],
   "source": [
    "#Merge with unique keys (maintained unique key as d)\n",
    "dict1 = {'d': 10, 'b': 8}\n",
    "dict2 = {'d': 6, 'c': 4}\n",
    "dict2.update(dict1)\n",
    "print(dict2)"
   ]
  },
  {
   "cell_type": "code",
   "execution_count": 20,
   "metadata": {},
   "outputs": [
    {
     "name": "stdout",
     "output_type": "stream",
     "text": [
      "{'bmw', 'banana', 'volvo', 'apple', 'benz', 'cherry'}\n"
     ]
    }
   ],
   "source": [
    "#union\n",
    "fruits = {\"apple\", \"banana\", \"cherry\"}\n",
    "cars = (\"volvo\", \"bmw\", \"benz\", \"apple\")\n",
    "union_output = fruits.union(cars)\n",
    "\n",
    "print(union_output)\n"
   ]
  },
  {
   "cell_type": "code",
   "execution_count": 19,
   "metadata": {},
   "outputs": [
    {
     "name": "stdout",
     "output_type": "stream",
     "text": [
      "{'apple'}\n",
      "{'apple'}\n"
     ]
    }
   ],
   "source": [
    "#intersection\n",
    "\n",
    "fruits = {\"apple\", \"banana\", \"cherry\"}\n",
    "cars = (\"volvo\", \"bmw\", \"benz\", \"apple\")\n",
    "intersection_output = fruits.intersection(cars)\n",
    "print(intersection_output)\n",
    "\n",
    "#This updates the set instead of returning a new set\n",
    "fruits.intersection_update(cars)\n",
    "print(fruits)"
   ]
  },
  {
   "cell_type": "code",
   "execution_count": 18,
   "metadata": {},
   "outputs": [
    {
     "name": "stdout",
     "output_type": "stream",
     "text": [
      "{'cherry', 'banana'}\n",
      "{'cherry', 'banana'}\n"
     ]
    }
   ],
   "source": [
    "#difference\n",
    "\n",
    "fruits = {\"apple\", \"banana\", \"cherry\"}\n",
    "cars = (\"volvo\", \"bmw\", \"benz\", \"apple\")\n",
    "diff_output = fruits.difference(cars)\n",
    "print(diff_output)\n",
    "\n",
    "#Updates the difference in first set\n",
    "fruits.difference_update(cars)\n",
    "print(fruits)"
   ]
  },
  {
   "cell_type": "code",
   "execution_count": 17,
   "metadata": {},
   "outputs": [
    {
     "name": "stdout",
     "output_type": "stream",
     "text": [
      "{'bmw', 'banana', 'volvo', 'benz', 'cherry'}\n",
      "{'bmw', 'banana', 'volvo', 'benz', 'cherry'}\n"
     ]
    }
   ],
   "source": [
    "#symmetric difference\n",
    "\n",
    "fruits = {\"apple\", \"banana\", \"cherry\"}\n",
    "cars = (\"volvo\", \"bmw\", \"benz\", \"apple\")\n",
    "symmetric_output = fruits.symmetric_difference(cars)\n",
    "print(symmetric_output)\n",
    "\n",
    "fruits.symmetric_difference_update(cars)\n",
    "print(fruits)"
   ]
  }
 ],
 "metadata": {
  "kernelspec": {
   "display_name": "Python 3",
   "language": "python",
   "name": "python3"
  },
  "language_info": {
   "codemirror_mode": {
    "name": "ipython",
    "version": 3
   },
   "file_extension": ".py",
   "mimetype": "text/x-python",
   "name": "python",
   "nbconvert_exporter": "python",
   "pygments_lexer": "ipython3",
   "version": "3.12.2"
  }
 },
 "nbformat": 4,
 "nbformat_minor": 2
}
