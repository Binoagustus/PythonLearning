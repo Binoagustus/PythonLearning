{
 "cells": [
  {
   "cell_type": "markdown",
   "metadata": {
    "jp-MarkdownHeadingCollapsed": true
   },
   "source": [
    "## Langchain\n",
    "%pip install -U langchain-community langgraph langchain-anthropic tavily-python langgraph-checkpoint-sqlite\n",
    "pip install -qU langchain-postgres"
   ]
  },
  {
   "cell_type": "markdown",
   "metadata": {},
   "source": [
    "## Langchain With PGVector\n",
    "* pip install -qU langchain-postgres\n",
    "* %pip install -U langchain-community langgraph langchain-anthropic tavily-python langgraph-checkpoint-sqlite\n",
    "* %pip install -qU langchain-groq\n",
    "* %pip install -qU langchain-ollama"
   ]
  },
  {
   "cell_type": "code",
   "execution_count": null,
   "metadata": {},
   "outputs": [
    {
     "name": "stdout",
     "output_type": "stream",
     "text": [
      "Note: you may need to restart the kernel to use updated packages.\n"
     ]
    }
   ],
   "source": [
    "import os\n",
    "from dotenv import load_dotenv\n",
    "\n",
    "load_dotenv()"
   ]
  },
  {
   "cell_type": "code",
   "execution_count": 8,
   "metadata": {},
   "outputs": [
    {
     "name": "stdout",
     "output_type": "stream",
     "text": [
      "Search results for: 'Tell me about programming languages'\n",
      "1. Python is a high-level programming language. (Similarity: 0.6264)\n",
      "2. Python is a high-level programming language. (Similarity: 0.6264)\n",
      "3. Python is a high-level programming language. (Similarity: 0.6264)\n",
      "4. PostgreSQL is a powerful open-source relational database. (Similarity: 0.2716)\n",
      "5. PostgreSQL is a powerful open-source relational database. (Similarity: 0.2716)\n"
     ]
    }
   ],
   "source": [
    "import psycopg2\n",
    "import os\n",
    "import numpy as np\n",
    "from sentence_transformers import SentenceTransformer\n",
    "from dotenv import load_dotenv\n",
    "\n",
    "load_dotenv()\n",
    "\n",
    "# Load the MiniLM embedding model\n",
    "model = SentenceTransformer('sentence-transformers/all-MiniLM-L6-v2')\n",
    "\n",
    "DATABASE_CONFIG = {\n",
    "    'dbname': os.getenv('DB_NAME'),\n",
    "    'user': os.getenv('DB_USER'),\n",
    "    'password': os.getenv('DB_PASSWORD'),\n",
    "    'host': os.getenv('DB_HOST', 'localhost'),  # Default to localhost if not set\n",
    "    'port': os.getenv('DB_PORT', '5432')\n",
    "}\n",
    "\n",
    "# Connect to the database ** is used to unpack dictionary\n",
    "conn = psycopg2.connect(**DATABASE_CONFIG)\n",
    "cur = conn.cursor()\n",
    "\n",
    "# Create a table for our documents\n",
    "cur.execute(\"\"\"\n",
    "    CREATE TABLE IF NOT EXISTS similarity_search_pdf (\n",
    "        id SERIAL PRIMARY KEY,\n",
    "        content TEXT,\n",
    "        embedding FLOAT8[]\n",
    "    )\n",
    "\"\"\")\n",
    "\n",
    "# Function to get embeddings using MiniLM\n",
    "def get_embedding(text):\n",
    "    embedding = model.encode(text, convert_to_numpy=True)\n",
    "    return embedding.tolist()  # Convert to list for storage in PostgreSQL\n",
    "\n",
    "# Function to add a document\n",
    "def add_document(content):\n",
    "    embedding = get_embedding(content)\n",
    "    cur.execute(\"INSERT INTO similarity_search_pdf (content, embedding) VALUES (%s, %s)\", (content, embedding))\n",
    "    conn.commit()\n",
    "\n",
    "# Function to search for similar documents\n",
    "def search_documents(query, limit=5):\n",
    "    query_embedding = np.array(get_embedding(query))\n",
    "    cur.execute(\"SELECT content, embedding FROM similarity_search_pdf\")\n",
    "    results = cur.fetchall()\n",
    "    \n",
    "    # Calculate cosine similarity between query and each document\n",
    "    scores = [(content, np.dot(query_embedding, np.array(embedding)) / (np.linalg.norm(query_embedding) * np.linalg.norm(embedding)))\n",
    "              for content, embedding in results]\n",
    "    # Sort by similarity (highest cosine similarity first)\n",
    "    scores.sort(key=lambda x: x[1], reverse=True)\n",
    "    \n",
    "    # Return the top `limit` results\n",
    "    return scores[:limit]\n",
    "\n",
    "# Add some sample documents\n",
    "sample_docs = [\n",
    "    \"The quick brown fox jumps over the lazy dog.\",\n",
    "    \"Python is a high-level programming language.\",\n",
    "    \"Vector databases are essential for modern AI applications.\",\n",
    "    \"PostgreSQL is a powerful open-source relational database.\",\n",
    "]\n",
    "for doc in sample_docs:\n",
    "    add_document(doc)\n",
    "\n",
    "# Perform a search\n",
    "search_query = \"Tell me about programming languages\"\n",
    "results = search_documents(search_query)\n",
    "print(f\"Search results for: '{search_query}'\")\n",
    "for i, (content, similarity) in enumerate(results, 1):\n",
    "    print(f\"{i}. {content} (Similarity: {similarity:.4f})\")\n",
    "\n",
    "# Clean up\n",
    "cur.close()\n",
    "conn.close()\n"
   ]
  },
  {
   "cell_type": "code",
   "execution_count": null,
   "metadata": {},
   "outputs": [],
   "source": []
  }
 ],
 "metadata": {
  "kernelspec": {
   "display_name": "Python 3",
   "language": "python",
   "name": "python3"
  },
  "language_info": {
   "codemirror_mode": {
    "name": "ipython",
    "version": 3
   },
   "file_extension": ".py",
   "mimetype": "text/x-python",
   "name": "python",
   "nbconvert_exporter": "python",
   "pygments_lexer": "ipython3",
   "version": "3.12.2"
  }
 },
 "nbformat": 4,
 "nbformat_minor": 4
}
