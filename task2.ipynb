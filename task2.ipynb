{
 "cells": [
  {
   "cell_type": "code",
   "execution_count": 13,
   "metadata": {},
   "outputs": [
    {
     "name": "stdout",
     "output_type": "stream",
     "text": [
      "['From', 'Germany', 'divya@gmail.com', 'Sat', 'Jan', '21', '11:24:32.008173']\n",
      "Germany\n",
      "divya@gmail.com\n",
      "gmail\n"
     ]
    }
   ],
   "source": [
    "input_str = \"From Germany divya@gmail.com Sat Jan 21 11:24:32.008173\"\n",
    "country = input_str[5:12]\n",
    "\n",
    "input_list = input_str.split()\n",
    "print(input_list)\n",
    "mail_id = input_list[2]\n",
    "\n",
    "mail_type = mail_id.split('@')[1] [:5]\n",
    "\n",
    "print(country)\n",
    "print(mail_id)\n",
    "print(mail_type)"
   ]
  },
  {
   "cell_type": "code",
   "execution_count": 16,
   "metadata": {},
   "outputs": [
    {
     "name": "stdout",
     "output_type": "stream",
     "text": [
      "[3, 'bmw', 'toyota', 1, 'volvo']\n"
     ]
    }
   ],
   "source": [
    "#Reverse a list\n",
    "cars = [\"volvo\", 1, \"toyota\", \"bmw\", 3]\n",
    "cars.reverse()\n",
    "print(cars)"
   ]
  },
  {
   "cell_type": "code",
   "execution_count": 32,
   "metadata": {},
   "outputs": [
    {
     "name": "stdout",
     "output_type": "stream",
     "text": [
      "desrever eb ot sdeen gnirts eht si sihT\n"
     ]
    }
   ],
   "source": [
    "#Reverse a string , no start and end value\n",
    "#Step value is -1, traverse each character from backwards\n",
    "revString = \"This is the string needs to be reversed\"\n",
    "print(revString[::-1])"
   ]
  },
  {
   "cell_type": "code",
   "execution_count": 40,
   "metadata": {},
   "outputs": [
    {
     "name": "stdout",
     "output_type": "stream",
     "text": [
      "[1, 2, 3, 4, 5]\n"
     ]
    }
   ],
   "source": [
    "#duplicate from list using set type and converting back to list\n",
    "my_list = [1, 2, 3, 2, 4, 3, 5]\n",
    "unique_list = list(set(my_list))\n",
    "print(unique_list)"
   ]
  },
  {
   "cell_type": "code",
   "execution_count": 58,
   "metadata": {},
   "outputs": [
    {
     "data": {
      "text/plain": [
       "'This atrng'"
      ]
     },
     "execution_count": 58,
     "metadata": {},
     "output_type": "execute_result"
    }
   ],
   "source": [
    "#Remove duplicate from String using \n",
    "duplicate_str = \"This is a string \"\n",
    "result = \"\".join(dict.fromkeys(duplicate_str))\n",
    "result"
   ]
  },
  {
   "cell_type": "code",
   "execution_count": 62,
   "metadata": {},
   "outputs": [
    {
     "name": "stdout",
     "output_type": "stream",
     "text": [
      "Max Value is  5\n",
      "Min value is  1\n"
     ]
    }
   ],
   "source": [
    "#Largest and smallest in List\n",
    "my_list = [1, 2, 3, 2, 4, 3, 5]\n",
    "print('Max Value is ', max(my_list))\n",
    "print('Min value is ', min(my_list))"
   ]
  },
  {
   "cell_type": "code",
   "execution_count": 66,
   "metadata": {},
   "outputs": [
    {
     "name": "stdout",
     "output_type": "stream",
     "text": [
      "Max Value is  t\n",
      "Min value is   \n"
     ]
    }
   ],
   "source": [
    "#Largest and smallest in a String\n",
    "#return char based on ASCII values\n",
    "duplicate_str = \"This is a string\"\n",
    "print('Max Value is ', max(duplicate_str))\n",
    "print('Min value is ', min(duplicate_str))"
   ]
  }
 ],
 "metadata": {
  "kernelspec": {
   "display_name": "Python 3",
   "language": "python",
   "name": "python3"
  },
  "language_info": {
   "codemirror_mode": {
    "name": "ipython",
    "version": 3
   },
   "file_extension": ".py",
   "mimetype": "text/x-python",
   "name": "python",
   "nbconvert_exporter": "python",
   "pygments_lexer": "ipython3",
   "version": "3.12.2"
  }
 },
 "nbformat": 4,
 "nbformat_minor": 2
}
