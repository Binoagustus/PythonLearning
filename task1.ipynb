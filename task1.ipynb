{
 "cells": [
  {
   "cell_type": "code",
   "execution_count": 17,
   "metadata": {},
   "outputs": [
    {
     "name": "stdout",
     "output_type": "stream",
     "text": [
      "carry 5\n",
      "x 0\n",
      "y 10\n",
      "carry 0\n",
      "x 10\n",
      "y 0\n",
      "10\n"
     ]
    }
   ],
   "source": [
    "#bitwise addition\n",
    "def add(x, y):\n",
    "    while (y != 0):\n",
    "        print('carry' , carry)\n",
    "        print('x', x)\n",
    "        y = carry << 1\n",
    "    return x\n",
    "print(add(5,5))"
   ]
  },
  {
   "cell_type": "code",
   "execution_count": 15,
   "metadata": {},
   "outputs": [
    {
     "name": "stdout",
     "output_type": "stream",
     "text": [
      "10\n"
     ]
    }
   ],
   "source": [
    "#special method\n",
    "a = 5\n",
    "b = 5\n",
    "print(a.__add__(b))"
   ]
  }
 ],
 "metadata": {
  "kernelspec": {
   "display_name": "Python 3",
   "language": "python",
   "name": "python3"
  },
  "language_info": {
   "codemirror_mode": {
    "name": "ipython",
    "version": 3
   },
   "file_extension": ".py",
   "mimetype": "text/x-python",
   "name": "python",
   "nbconvert_exporter": "python",
   "pygments_lexer": "ipython3",
   "version": "3.12.2"
  }
 },
 "nbformat": 4,
 "nbformat_minor": 2
}
