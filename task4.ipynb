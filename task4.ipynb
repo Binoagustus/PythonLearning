{
 "cells": [
  {
   "cell_type": "code",
   "execution_count": 20,
   "metadata": {},
   "outputs": [
    {
     "name": "stdout",
     "output_type": "stream",
     "text": [
      "['raw_mango', 'raw_mango', 'raw_mango', 'raw_mango', 'raw_mango']\n"
     ]
    }
   ],
   "source": [
    "#Fruit Market\n",
    "fruits = [\"apple\", \"pomegranate\", \"ripe_mango\", \"raw_mango\", \"banana\", \"ripe_mango\", \"raw_mango\", \"raw_mango\", \"raw_mango\", \"kiwi\", \"raw_mango\", \"raw_mango\"]\n",
    "size_of_bag = 5\n",
    "bag = list()\n",
    "i = 0\n",
    "\n",
    "for x in fruits:\n",
    "    if(x == \"raw_mango\" and i < size_of_bag):\n",
    "        bag.append(x)\n",
    "        i += 1\n",
    "    else:\n",
    "        continue    \n",
    "\n",
    "print(bag)    \n",
    "        "
   ]
  },
  {
   "cell_type": "code",
   "execution_count": 28,
   "metadata": {},
   "outputs": [
    {
     "name": "stdout",
     "output_type": "stream",
     "text": [
      "Get the cash \n",
      " Remaining balance is 5000\n"
     ]
    }
   ],
   "source": [
    "# ATM Withdawal System\n",
    "max_attempts = 3\n",
    "account_balance = 10000\n",
    "i = 0\n",
    "\n",
    "while(i < max_attempts):\n",
    "    amount = input(\"Enter the amount: \")\n",
    "    temp_amount = int(amount)\n",
    "    if(temp_amount <= 0):\n",
    "        i += 1\n",
    "        print(\"Enter a valid amount\")\n",
    "        continue\n",
    "    elif(temp_amount > account_balance):\n",
    "        print(\"Amount exceeds your balance\")\n",
    "        break\n",
    "    else:\n",
    "        account_balance = account_balance - temp_amount\n",
    "        print(\"Get the cash \\n Remaining balance is {}\".format(account_balance))\n",
    "        break\n"
   ]
  }
 ],
 "metadata": {
  "kernelspec": {
   "display_name": "Python 3",
   "language": "python",
   "name": "python3"
  },
  "language_info": {
   "codemirror_mode": {
    "name": "ipython",
    "version": 3
   },
   "file_extension": ".py",
   "mimetype": "text/x-python",
   "name": "python",
   "nbconvert_exporter": "python",
   "pygments_lexer": "ipython3",
   "version": "3.12.2"
  }
 },
 "nbformat": 4,
 "nbformat_minor": 2
}
